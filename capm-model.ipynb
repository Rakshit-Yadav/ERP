{
 "cells": [
  {
   "cell_type": "markdown",
   "metadata": {},
   "source": [
    "import yfinance as yf # type: ignore\n",
    "import pandas as pd\n",
    "\n",
    "# Define the stock and market index\n",
    "stock_tickers = ['HSBC.L', 'BP.L']\n",
    "market_ticker = '^FTSE'  # FTSE 100\n",
    "\n",
    "# Define the period\n",
    "start_date = '2017-01-01'\n",
    "end_date = '2020-01-01'\n",
    "\n",
    "# Download data\n",
    "stocks_data = {}\n",
    "for ticker in stock_tickers:\n",
    "    stocks_data[ticker] = yf.download(ticker, start=start_date, end=end_date)\n",
    "\n",
    "market_data = yf.download(market_ticker, start=start_date, end=end_date)\n",
    "\n",
    "# Display the first few rows\n",
    "for ticker, data in stocks_data.items():\n",
    "    print(f\"{ticker} data:\\n\", data.head())\n",
    "print(market_data.head())\n"
   ]
  },
  {
   "cell_type": "code",
   "execution_count": 11,
   "metadata": {},
   "outputs": [
    {
     "name": "stdout",
     "output_type": "stream",
     "text": [
      "Empty DataFrame\n",
      "Columns: [FTSE, HSBC.L, BP.L]\n",
      "Index: []\n"
     ]
    }
   ],
   "source": [
    "# Calculate daily returns\n",
    "for ticker in stock_tickers:\n",
    "    stocks_data[ticker]['Return'] = stocks_data[ticker]['Adj Close'].pct_change()\n",
    "market_data['Return'] = market_data['Adj Close'].pct_change()\n",
    "\n",
    "# Merge the data on the date index\n",
    "returns_data = market_data[['Return']].rename(columns={'Return': 'FTSE'}).copy()\n",
    "\n",
    "for ticker in stock_tickers:\n",
    "    returns_data[ticker] = stocks_data[ticker]['Return']\n",
    "\n",
    "# Drop any rows with missing data\n",
    "returns_data.dropna(inplace=True)\n",
    "\n",
    "# Display the first few rows\n",
    "print(returns_data.head())"
   ]
  },
  {
   "cell_type": "code",
   "execution_count": 14,
   "metadata": {},
   "outputs": [],
   "source": [
    "import yfinance as yf\n",
    "\n",
    "# Download S&P 500 historical data\n",
    "sp500 = yf.Ticker(\"^GSPC\")\n",
    "# Define the period\n",
    "start_date = '2017-01-01'\n",
    "end_date = '2020-01-01'\n",
    "aapl_data = aapl.history(start=start_date, end= end_date)\n",
    "\n",
    "# Save to csv\n",
    "aapl_data.to_csv(\"aapl_Historical_Data.csv\")\n"
   ]
  },
  {
   "cell_type": "code",
   "execution_count": 19,
   "metadata": {},
   "outputs": [],
   "source": [
    "import yfinance as yf\n",
    "\n",
    "# Download S&P 500 historical data\n",
    "msft = yf.Ticker(\"MSFT\")\n",
    "# Define the period\n",
    "start_date = '2017-01-01'\n",
    "end_date = '2020-01-01'\n",
    "msft_data = msft.history(start=start_date, end= end_date)\n",
    "\n",
    "# Save to csv\n",
    "msft_data.to_csv(\"MSFT_Historical_Data.csv\")\n"
   ]
  },
  {
   "cell_type": "code",
   "execution_count": 20,
   "metadata": {},
   "outputs": [],
   "source": [
    "import yfinance as yf\n",
    "\n",
    "# Download S&P 500 historical data\n",
    "aapl = yf.Ticker(\"AAPL\")\n",
    "# Define the period\n",
    "start_date = '2017-01-01'\n",
    "end_date = '2020-01-01'\n",
    "aapl_data = aapl.history(start=start_date, end= end_date)\n",
    "\n",
    "# Save to csv\n",
    "aapl_data.to_csv(\"AAPL_Historical_Data.csv\")\n"
   ]
  },
  {
   "cell_type": "code",
   "execution_count": 21,
   "metadata": {},
   "outputs": [],
   "source": [
    "import yfinance as yf\n",
    "\n",
    "# Download S&P 500 historical data\n",
    "tsla = yf.Ticker(\"TSLA\")\n",
    "# Define the period\n",
    "start_date = '2017-01-01'\n",
    "end_date = '2020-01-01'\n",
    "TSLA_data = tsla.history(start=start_date, end= end_date)\n",
    "\n",
    "# Save to csv\n",
    "tsla_data.to_csv(\"TSLA_Historical_Data.csv\")"
   ]
  },
  {
   "cell_type": "markdown",
   "metadata": {},
   "source": [
    "# Code above this line is for setting up the files"
   ]
  },
  {
   "cell_type": "code",
   "execution_count": 3,
   "metadata": {},
   "outputs": [],
   "source": [
    "import pandas as pd\n",
    "import matplotlib.pyplot as plt\n",
    "import numpy as np\n",
    "import seaborn as sns\n",
    "from scipy import stats\n",
    "import plotly.express as px\n",
    "import plotly.figure_factory as ff\n",
    "import plotly.graph_objects as go\n",
    "# Plotly.express module can plot interactive plots easily and effectively.\n",
    "\n",
    "# it is important to note here that the Closing share prices are \"Adjusted Close Prices\"\n",
    "AAPL = pd.read_csv(\"AAPL_Historical_Data.csv\")\n",
    "MSFT = pd.read_csv(\"MSFT_Historical_Data.csv\")\n",
    "TSLA = pd.read_csv(\"TSLA_Historical_Data.csv\")\n",
    "SP500 = pd.read_csv(\"SP500_Historical_Data.csv\")\n",
    "\n",
    "AAPL = AAPL[[\"Date\", \"Close\"]]\n",
    "MSFT = MSFT[[\"Date\", \"Close\"]]\n",
    "TSLA = TSLA[[\"Date\", \"Close\"]]\n",
    "SP500 = SP500[[\"Date\", \"Close\"]]\n",
    "\n",
    "AAPL.rename(columns={\"Close\": \"AAPL\"}, inplace = True)\n",
    "MSFT.rename(columns={\"Close\": \"MSFT\"}, inplace = True)\n",
    "TSLA.rename(columns={\"Close\": \"TSLA\"}, inplace = True)\n",
    "SP500.rename(columns={\"Close\": \"SP500\"}, inplace = True)"
   ]
  },
  {
   "cell_type": "code",
   "execution_count": 4,
   "metadata": {},
   "outputs": [],
   "source": [
    "# Convert the 'Date' column to datetime with timezone handling\n",
    "TSLA['Date'] = pd.to_datetime(TSLA['Date'], utc=True)\n",
    "\n",
    "# Convert to naive datetime (remove timezone)\n",
    "TSLA['Date'] = TSLA['Date'].dt.tz_localize(None)\n",
    "\n",
    "# Extract only the date part\n",
    "TSLA['Date'] = TSLA['Date'].dt.date\n",
    "\n",
    "# Change the date format to dd-mm-yyyy\n",
    "TSLA['Date'] = TSLA['Date'].apply(lambda x: x.strftime('%d-%m-%Y'))"
   ]
  },
  {
   "cell_type": "code",
   "execution_count": 5,
   "metadata": {},
   "outputs": [],
   "source": [
    "# Convert the 'Date' column to datetime with timezone handling\n",
    "MSFT['Date'] = pd.to_datetime(MSFT['Date'], utc=True)\n",
    "\n",
    "# Convert to naive datetime (remove timezone)\n",
    "MSFT['Date'] = MSFT['Date'].dt.tz_localize(None)\n",
    "\n",
    "# Extract only the date part\n",
    "MSFT['Date'] = MSFT['Date'].dt.date\n",
    "\n",
    "# Change the date format to dd-mm-yyyy\n",
    "MSFT['Date'] = MSFT['Date'].apply(lambda x: x.strftime('%d-%m-%Y'))"
   ]
  },
  {
   "cell_type": "code",
   "execution_count": 6,
   "metadata": {},
   "outputs": [],
   "source": [
    "# Convert the 'Date' column to datetime with timezone handling\n",
    "AAPL['Date'] = pd.to_datetime(AAPL['Date'], utc=True)\n",
    "\n",
    "# Convert to naive datetime (remove timezone)\n",
    "AAPL['Date'] = AAPL['Date'].dt.tz_localize(None)\n",
    "\n",
    "# Extract only the date part\n",
    "AAPL['Date'] = AAPL['Date'].dt.date\n",
    "\n",
    "# Change the date format to dd-mm-yyyy\n",
    "AAPL['Date'] = AAPL['Date'].apply(lambda x: x.strftime('%d-%m-%Y'))"
   ]
  },
  {
   "cell_type": "code",
   "execution_count": 7,
   "metadata": {},
   "outputs": [],
   "source": [
    "# Convert the 'Date' column to datetime with timezone handling\n",
    "SP500['Date'] = pd.to_datetime(SP500['Date'], utc=True)\n",
    "\n",
    "# Convert to naive datetime (remove timezone)\n",
    "SP500['Date'] = SP500['Date'].dt.tz_localize(None)\n",
    "\n",
    "# Extract only the date part\n",
    "SP500['Date'] = SP500['Date'].dt.date\n",
    "\n",
    "# Change the date format to dd-mm-yyyy\n",
    "SP500['Date'] = SP500['Date'].apply(lambda x: x.strftime('%d-%m-%Y'))"
   ]
  },
  {
   "cell_type": "code",
   "execution_count": 8,
   "metadata": {},
   "outputs": [
    {
     "name": "stderr",
     "output_type": "stream",
     "text": [
      "/var/folders/l4/zzypv4g962z9znwm8cxmhf5h0000gn/T/ipykernel_18472/1831736273.py:1: UserWarning: Parsing dates in DD/MM/YYYY format when dayfirst=False (the default) was specified. This may lead to inconsistently parsed dates! Specify a format to ensure consistent parsing.\n",
      "  TSLA['Date'] = pd.to_datetime(TSLA['Date'])\n",
      "/var/folders/l4/zzypv4g962z9znwm8cxmhf5h0000gn/T/ipykernel_18472/1831736273.py:2: UserWarning: Parsing dates in DD/MM/YYYY format when dayfirst=False (the default) was specified. This may lead to inconsistently parsed dates! Specify a format to ensure consistent parsing.\n",
      "  MSFT['Date'] = pd.to_datetime(MSFT['Date'])\n",
      "/var/folders/l4/zzypv4g962z9znwm8cxmhf5h0000gn/T/ipykernel_18472/1831736273.py:3: UserWarning: Parsing dates in DD/MM/YYYY format when dayfirst=False (the default) was specified. This may lead to inconsistently parsed dates! Specify a format to ensure consistent parsing.\n",
      "  AAPL['Date'] = pd.to_datetime(AAPL['Date'])\n",
      "/var/folders/l4/zzypv4g962z9znwm8cxmhf5h0000gn/T/ipykernel_18472/1831736273.py:4: UserWarning: Parsing dates in DD/MM/YYYY format when dayfirst=False (the default) was specified. This may lead to inconsistently parsed dates! Specify a format to ensure consistent parsing.\n",
      "  SP500['Date'] = pd.to_datetime(SP500['Date'])\n"
     ]
    }
   ],
   "source": [
    "TSLA['Date'] = pd.to_datetime(TSLA['Date'])\n",
    "MSFT['Date'] = pd.to_datetime(MSFT['Date'])\n",
    "AAPL['Date'] = pd.to_datetime(AAPL['Date'])\n",
    "SP500['Date'] = pd.to_datetime(SP500['Date'])"
   ]
  },
  {
   "cell_type": "code",
   "execution_count": 9,
   "metadata": {},
   "outputs": [
    {
     "name": "stdout",
     "output_type": "stream",
     "text": [
      "<class 'pandas.core.frame.DataFrame'>\n",
      "RangeIndex: 754 entries, 0 to 753\n",
      "Data columns (total 2 columns):\n",
      " #   Column  Non-Null Count  Dtype         \n",
      "---  ------  --------------  -----         \n",
      " 0   Date    754 non-null    datetime64[ns]\n",
      " 1   TSLA    754 non-null    float64       \n",
      "dtypes: datetime64[ns](1), float64(1)\n",
      "memory usage: 11.9 KB\n"
     ]
    }
   ],
   "source": [
    "TSLA.info()"
   ]
  },
  {
   "cell_type": "code",
   "execution_count": 10,
   "metadata": {},
   "outputs": [
    {
     "data": {
      "text/html": [
       "<div>\n",
       "<style scoped>\n",
       "    .dataframe tbody tr th:only-of-type {\n",
       "        vertical-align: middle;\n",
       "    }\n",
       "\n",
       "    .dataframe tbody tr th {\n",
       "        vertical-align: top;\n",
       "    }\n",
       "\n",
       "    .dataframe thead th {\n",
       "        text-align: right;\n",
       "    }\n",
       "</style>\n",
       "<table border=\"1\" class=\"dataframe\">\n",
       "  <thead>\n",
       "    <tr style=\"text-align: right;\">\n",
       "      <th></th>\n",
       "      <th>Date</th>\n",
       "      <th>TSLA</th>\n",
       "    </tr>\n",
       "  </thead>\n",
       "  <tbody>\n",
       "    <tr>\n",
       "      <th>0</th>\n",
       "      <td>2017-03-01</td>\n",
       "      <td>14.466000</td>\n",
       "    </tr>\n",
       "    <tr>\n",
       "      <th>1</th>\n",
       "      <td>2017-04-01</td>\n",
       "      <td>15.132667</td>\n",
       "    </tr>\n",
       "    <tr>\n",
       "      <th>2</th>\n",
       "      <td>2017-05-01</td>\n",
       "      <td>15.116667</td>\n",
       "    </tr>\n",
       "    <tr>\n",
       "      <th>3</th>\n",
       "      <td>2017-06-01</td>\n",
       "      <td>15.267333</td>\n",
       "    </tr>\n",
       "    <tr>\n",
       "      <th>4</th>\n",
       "      <td>2017-09-01</td>\n",
       "      <td>15.418667</td>\n",
       "    </tr>\n",
       "  </tbody>\n",
       "</table>\n",
       "</div>"
      ],
      "text/plain": [
       "        Date       TSLA\n",
       "0 2017-03-01  14.466000\n",
       "1 2017-04-01  15.132667\n",
       "2 2017-05-01  15.116667\n",
       "3 2017-06-01  15.267333\n",
       "4 2017-09-01  15.418667"
      ]
     },
     "execution_count": 10,
     "metadata": {},
     "output_type": "execute_result"
    }
   ],
   "source": [
    "TSLA.head()"
   ]
  },
  {
   "cell_type": "code",
   "execution_count": 11,
   "metadata": {},
   "outputs": [
    {
     "data": {
      "text/html": [
       "<div>\n",
       "<style scoped>\n",
       "    .dataframe tbody tr th:only-of-type {\n",
       "        vertical-align: middle;\n",
       "    }\n",
       "\n",
       "    .dataframe tbody tr th {\n",
       "        vertical-align: top;\n",
       "    }\n",
       "\n",
       "    .dataframe thead th {\n",
       "        text-align: right;\n",
       "    }\n",
       "</style>\n",
       "<table border=\"1\" class=\"dataframe\">\n",
       "  <thead>\n",
       "    <tr style=\"text-align: right;\">\n",
       "      <th></th>\n",
       "      <th>Date</th>\n",
       "      <th>AAPL</th>\n",
       "      <th>MSFT</th>\n",
       "      <th>TSLA</th>\n",
       "      <th>SP500</th>\n",
       "    </tr>\n",
       "  </thead>\n",
       "  <tbody>\n",
       "    <tr>\n",
       "      <th>20</th>\n",
       "      <td>2017-01-02</td>\n",
       "      <td>29.876551</td>\n",
       "      <td>57.840290</td>\n",
       "      <td>16.615999</td>\n",
       "      <td>2279.550049</td>\n",
       "    </tr>\n",
       "    <tr>\n",
       "      <th>39</th>\n",
       "      <td>2017-01-03</td>\n",
       "      <td>32.579029</td>\n",
       "      <td>59.435688</td>\n",
       "      <td>16.667999</td>\n",
       "      <td>2395.959961</td>\n",
       "    </tr>\n",
       "    <tr>\n",
       "      <th>81</th>\n",
       "      <td>2017-01-05</td>\n",
       "      <td>34.161488</td>\n",
       "      <td>63.526787</td>\n",
       "      <td>21.521999</td>\n",
       "      <td>2388.330078</td>\n",
       "    </tr>\n",
       "    <tr>\n",
       "      <th>103</th>\n",
       "      <td>2017-01-06</td>\n",
       "      <td>35.847012</td>\n",
       "      <td>64.526077</td>\n",
       "      <td>22.691334</td>\n",
       "      <td>2430.060059</td>\n",
       "    </tr>\n",
       "    <tr>\n",
       "      <th>145</th>\n",
       "      <td>2017-01-08</td>\n",
       "      <td>35.114548</td>\n",
       "      <td>66.808884</td>\n",
       "      <td>21.304667</td>\n",
       "      <td>2476.350098</td>\n",
       "    </tr>\n",
       "  </tbody>\n",
       "</table>\n",
       "</div>"
      ],
      "text/plain": [
       "          Date       AAPL       MSFT       TSLA        SP500\n",
       "20  2017-01-02  29.876551  57.840290  16.615999  2279.550049\n",
       "39  2017-01-03  32.579029  59.435688  16.667999  2395.959961\n",
       "81  2017-01-05  34.161488  63.526787  21.521999  2388.330078\n",
       "103 2017-01-06  35.847012  64.526077  22.691334  2430.060059\n",
       "145 2017-01-08  35.114548  66.808884  21.304667  2476.350098"
      ]
     },
     "execution_count": 11,
     "metadata": {},
     "output_type": "execute_result"
    }
   ],
   "source": [
    "# concatenation of all dataframes into one.\n",
    "stocks_df = pd.concat([AAPL, MSFT.drop(columns=[\"Date\"]), TSLA.drop(columns=[\"Date\"]), SP500.drop(columns=[\"Date\"])], axis = 1)\n",
    "\n",
    "# sort by date\n",
    "stocks_df = stocks_df.sort_values(by = ['Date'])\n",
    "stocks_df.head(5)"
   ]
  },
  {
   "cell_type": "code",
   "execution_count": null,
   "metadata": {},
   "outputs": [],
   "source": []
  },
  {
   "cell_type": "markdown",
   "metadata": {},
   "source": [
    "#### Below code is to change working directory"
   ]
  },
  {
   "cell_type": "code",
   "execution_count": 2,
   "metadata": {},
   "outputs": [],
   "source": [
    "\n",
    "import os\n",
    "import pandas as pd\n",
    "\n",
    "# Specify the new directory path\n",
    "new_directory = \"/Users/yadav/ERP\"  # Replace with your desired path\n",
    "\n",
    "# Change the current working directory\n",
    "os.chdir(new_directory)"
   ]
  },
  {
   "cell_type": "code",
   "execution_count": null,
   "metadata": {},
   "outputs": [],
   "source": []
  }
 ],
 "metadata": {
  "kernelspec": {
   "display_name": "Python 3 (ipykernel)",
   "language": "python",
   "name": "python3"
  },
  "language_info": {
   "codemirror_mode": {
    "name": "ipython",
    "version": 3
   },
   "file_extension": ".py",
   "mimetype": "text/x-python",
   "name": "python",
   "nbconvert_exporter": "python",
   "pygments_lexer": "ipython3",
   "version": "3.11.4"
  }
 },
 "nbformat": 4,
 "nbformat_minor": 2
}
